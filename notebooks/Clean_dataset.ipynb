{
 "cells": [
  {
   "cell_type": "code",
   "execution_count": 1,
   "outputs": [],
   "source": [
    "import pandas as pd"
   ],
   "metadata": {
    "collapsed": false,
    "pycharm": {
     "name": "#%%\n"
    }
   }
  },
  {
   "cell_type": "code",
   "execution_count": 3,
   "outputs": [],
   "source": [
    "X = pd.read_csv(\"../data/raw/NHANESI_X.csv\")\n",
    "Y = pd.read_csv(\"../data/raw/NHANESI_Y.csv\")"
   ],
   "metadata": {
    "collapsed": false,
    "pycharm": {
     "name": "#%%\n"
    }
   }
  },
  {
   "cell_type": "code",
   "execution_count": 21,
   "outputs": [
    {
     "data": {
      "text/plain": "0        20751\n1        20753\n2        20754\n3        20755\n4        20756\n         ...  \n14259    25043\n14260    25046\n14261    25049\n14262    25057\n14263    25061\nName: Unnamed: 0, Length: 14264, dtype: int64"
     },
     "execution_count": 21,
     "metadata": {},
     "output_type": "execute_result"
    }
   ],
   "source": [
    "Y['Unnamed: 0']"
   ],
   "metadata": {
    "collapsed": false,
    "pycharm": {
     "name": "#%%\n"
    }
   }
  },
  {
   "cell_type": "code",
   "execution_count": 14,
   "outputs": [
    {
     "data": {
      "text/plain": "       Unnamed: 0          y\n0           20751 -16.916667\n1           20753 -17.166667\n2           20754 -17.666667\n3           20755 -17.250000\n4           20756 -17.083333\n...           ...        ...\n14259       25043 -17.000000\n14260       25046 -17.083333\n14261       25049 -17.083333\n14262       25057 -17.083333\n14263       25061 -17.083333\n\n[14264 rows x 2 columns]",
      "text/html": "<div>\n<style scoped>\n    .dataframe tbody tr th:only-of-type {\n        vertical-align: middle;\n    }\n\n    .dataframe tbody tr th {\n        vertical-align: top;\n    }\n\n    .dataframe thead th {\n        text-align: right;\n    }\n</style>\n<table border=\"1\" class=\"dataframe\">\n  <thead>\n    <tr style=\"text-align: right;\">\n      <th></th>\n      <th>Unnamed: 0</th>\n      <th>y</th>\n    </tr>\n  </thead>\n  <tbody>\n    <tr>\n      <th>0</th>\n      <td>20751</td>\n      <td>-16.916667</td>\n    </tr>\n    <tr>\n      <th>1</th>\n      <td>20753</td>\n      <td>-17.166667</td>\n    </tr>\n    <tr>\n      <th>2</th>\n      <td>20754</td>\n      <td>-17.666667</td>\n    </tr>\n    <tr>\n      <th>3</th>\n      <td>20755</td>\n      <td>-17.250000</td>\n    </tr>\n    <tr>\n      <th>4</th>\n      <td>20756</td>\n      <td>-17.083333</td>\n    </tr>\n    <tr>\n      <th>...</th>\n      <td>...</td>\n      <td>...</td>\n    </tr>\n    <tr>\n      <th>14259</th>\n      <td>25043</td>\n      <td>-17.000000</td>\n    </tr>\n    <tr>\n      <th>14260</th>\n      <td>25046</td>\n      <td>-17.083333</td>\n    </tr>\n    <tr>\n      <th>14261</th>\n      <td>25049</td>\n      <td>-17.083333</td>\n    </tr>\n    <tr>\n      <th>14262</th>\n      <td>25057</td>\n      <td>-17.083333</td>\n    </tr>\n    <tr>\n      <th>14263</th>\n      <td>25061</td>\n      <td>-17.083333</td>\n    </tr>\n  </tbody>\n</table>\n<p>14264 rows × 2 columns</p>\n</div>"
     },
     "execution_count": 14,
     "metadata": {},
     "output_type": "execute_result"
    }
   ],
   "source": [
    "Y"
   ],
   "metadata": {
    "collapsed": false,
    "pycharm": {
     "name": "#%%\n"
    }
   }
  },
  {
   "cell_type": "code",
   "execution_count": 24,
   "outputs": [
    {
     "data": {
      "text/plain": "       Unnamed: 0  sex_isFemale  age  physical_activity  serum_albumin  \\\n0           20751         False   51                  3            NaN   \n1           20753         False   41                  2            NaN   \n2           20754          True   31                  2            NaN   \n3           20755         False   48                  2            NaN   \n4           20756          True   29                  3            NaN   \n...           ...           ...  ...                ...            ...   \n14259       25043          True   63                  2            NaN   \n14260       25046          True   56                  2            NaN   \n14261       25049          True   47                  2            NaN   \n14262       25057          True   61                  8            NaN   \n14263       25061         False   29                  3            NaN   \n\n       alkaline_phosphatase  alkaline_phosphatase_isUnacceptable  \\\n0                      85.0                                False   \n1                      68.0                                False   \n2                      61.0                                False   \n3                      58.0                                False   \n4                      37.0                                False   \n...                     ...                                  ...   \n14259                  86.0                                False   \n14260                  65.0                                False   \n14261                  46.0                                False   \n14262                  75.0                                False   \n14263                  84.0                                False   \n\n       alkaline_phosphatase_isTestnotdone  SGOT  SGOT_isUnacceptable  ...  \\\n0                                   False   NaN                 True  ...   \n1                                   False  2.27                False  ...   \n2                                   False  1.86                False  ...   \n3                                   False   NaN                 True  ...   \n4                                   False  1.69                False  ...   \n...                                   ...   ...                  ...  ...   \n14259                               False  2.24                False  ...   \n14260                               False  2.31                False  ...   \n14261                               False  1.93                False  ...   \n14262                               False  2.29                False  ...   \n14263                               False  3.02                False  ...   \n\n       urine_hematest_isBlankbutapplicable  sedimentation_rate  \\\n0                                    False                 NaN   \n1                                    False                 NaN   \n2                                    False                 NaN   \n3                                    False                 NaN   \n4                                    False                 NaN   \n...                                    ...                 ...   \n14259                                False                 NaN   \n14260                                False                 NaN   \n14261                                False                 NaN   \n14262                                False                 NaN   \n14263                                False                 NaN   \n\n       sedimentation_rate_isBlankbutapplicable  uric_acid  \\\n0                                        False        6.2   \n1                                        False        7.7   \n2                                        False        4.9   \n3                                        False        8.4   \n4                                        False        4.3   \n...                                        ...        ...   \n14259                                    False        7.2   \n14260                                    False        5.1   \n14261                                    False        3.2   \n14262                                    False        6.8   \n14263                                    False        6.1   \n\n       uric_acid_isUnacceptable  uric_acid_isTestnotdone  \\\n0                         False                    False   \n1                         False                    False   \n2                         False                    False   \n3                         False                    False   \n4                         False                    False   \n...                         ...                      ...   \n14259                     False                    False   \n14260                     False                    False   \n14261                     False                    False   \n14262                     False                    False   \n14263                     False                    False   \n\n       systolic_blood_pressure  pulse_pressure        bmi          y  \n0                        110.0            40.0  25.406803 -16.916667  \n1                        136.0            54.0  24.588331 -17.166667  \n2                        110.0            24.0  23.756502 -17.666667  \n3                        126.0            36.0  28.610011 -17.250000  \n4                         98.0            36.0  19.216489 -17.083333  \n...                        ...             ...        ...        ...  \n14259                    150.0            65.0  35.425033 -17.000000  \n14260                     98.0            38.0  22.069132 -17.083333  \n14261                    108.0            28.0  17.915199 -17.083333  \n14262                    180.0            68.0  27.331622 -17.083333  \n14263                    152.0            60.0  33.161435 -17.083333  \n\n[14264 rows x 81 columns]",
      "text/html": "<div>\n<style scoped>\n    .dataframe tbody tr th:only-of-type {\n        vertical-align: middle;\n    }\n\n    .dataframe tbody tr th {\n        vertical-align: top;\n    }\n\n    .dataframe thead th {\n        text-align: right;\n    }\n</style>\n<table border=\"1\" class=\"dataframe\">\n  <thead>\n    <tr style=\"text-align: right;\">\n      <th></th>\n      <th>Unnamed: 0</th>\n      <th>sex_isFemale</th>\n      <th>age</th>\n      <th>physical_activity</th>\n      <th>serum_albumin</th>\n      <th>alkaline_phosphatase</th>\n      <th>alkaline_phosphatase_isUnacceptable</th>\n      <th>alkaline_phosphatase_isTestnotdone</th>\n      <th>SGOT</th>\n      <th>SGOT_isUnacceptable</th>\n      <th>...</th>\n      <th>urine_hematest_isBlankbutapplicable</th>\n      <th>sedimentation_rate</th>\n      <th>sedimentation_rate_isBlankbutapplicable</th>\n      <th>uric_acid</th>\n      <th>uric_acid_isUnacceptable</th>\n      <th>uric_acid_isTestnotdone</th>\n      <th>systolic_blood_pressure</th>\n      <th>pulse_pressure</th>\n      <th>bmi</th>\n      <th>y</th>\n    </tr>\n  </thead>\n  <tbody>\n    <tr>\n      <th>0</th>\n      <td>20751</td>\n      <td>False</td>\n      <td>51</td>\n      <td>3</td>\n      <td>NaN</td>\n      <td>85.0</td>\n      <td>False</td>\n      <td>False</td>\n      <td>NaN</td>\n      <td>True</td>\n      <td>...</td>\n      <td>False</td>\n      <td>NaN</td>\n      <td>False</td>\n      <td>6.2</td>\n      <td>False</td>\n      <td>False</td>\n      <td>110.0</td>\n      <td>40.0</td>\n      <td>25.406803</td>\n      <td>-16.916667</td>\n    </tr>\n    <tr>\n      <th>1</th>\n      <td>20753</td>\n      <td>False</td>\n      <td>41</td>\n      <td>2</td>\n      <td>NaN</td>\n      <td>68.0</td>\n      <td>False</td>\n      <td>False</td>\n      <td>2.27</td>\n      <td>False</td>\n      <td>...</td>\n      <td>False</td>\n      <td>NaN</td>\n      <td>False</td>\n      <td>7.7</td>\n      <td>False</td>\n      <td>False</td>\n      <td>136.0</td>\n      <td>54.0</td>\n      <td>24.588331</td>\n      <td>-17.166667</td>\n    </tr>\n    <tr>\n      <th>2</th>\n      <td>20754</td>\n      <td>True</td>\n      <td>31</td>\n      <td>2</td>\n      <td>NaN</td>\n      <td>61.0</td>\n      <td>False</td>\n      <td>False</td>\n      <td>1.86</td>\n      <td>False</td>\n      <td>...</td>\n      <td>False</td>\n      <td>NaN</td>\n      <td>False</td>\n      <td>4.9</td>\n      <td>False</td>\n      <td>False</td>\n      <td>110.0</td>\n      <td>24.0</td>\n      <td>23.756502</td>\n      <td>-17.666667</td>\n    </tr>\n    <tr>\n      <th>3</th>\n      <td>20755</td>\n      <td>False</td>\n      <td>48</td>\n      <td>2</td>\n      <td>NaN</td>\n      <td>58.0</td>\n      <td>False</td>\n      <td>False</td>\n      <td>NaN</td>\n      <td>True</td>\n      <td>...</td>\n      <td>False</td>\n      <td>NaN</td>\n      <td>False</td>\n      <td>8.4</td>\n      <td>False</td>\n      <td>False</td>\n      <td>126.0</td>\n      <td>36.0</td>\n      <td>28.610011</td>\n      <td>-17.250000</td>\n    </tr>\n    <tr>\n      <th>4</th>\n      <td>20756</td>\n      <td>True</td>\n      <td>29</td>\n      <td>3</td>\n      <td>NaN</td>\n      <td>37.0</td>\n      <td>False</td>\n      <td>False</td>\n      <td>1.69</td>\n      <td>False</td>\n      <td>...</td>\n      <td>False</td>\n      <td>NaN</td>\n      <td>False</td>\n      <td>4.3</td>\n      <td>False</td>\n      <td>False</td>\n      <td>98.0</td>\n      <td>36.0</td>\n      <td>19.216489</td>\n      <td>-17.083333</td>\n    </tr>\n    <tr>\n      <th>...</th>\n      <td>...</td>\n      <td>...</td>\n      <td>...</td>\n      <td>...</td>\n      <td>...</td>\n      <td>...</td>\n      <td>...</td>\n      <td>...</td>\n      <td>...</td>\n      <td>...</td>\n      <td>...</td>\n      <td>...</td>\n      <td>...</td>\n      <td>...</td>\n      <td>...</td>\n      <td>...</td>\n      <td>...</td>\n      <td>...</td>\n      <td>...</td>\n      <td>...</td>\n      <td>...</td>\n    </tr>\n    <tr>\n      <th>14259</th>\n      <td>25043</td>\n      <td>True</td>\n      <td>63</td>\n      <td>2</td>\n      <td>NaN</td>\n      <td>86.0</td>\n      <td>False</td>\n      <td>False</td>\n      <td>2.24</td>\n      <td>False</td>\n      <td>...</td>\n      <td>False</td>\n      <td>NaN</td>\n      <td>False</td>\n      <td>7.2</td>\n      <td>False</td>\n      <td>False</td>\n      <td>150.0</td>\n      <td>65.0</td>\n      <td>35.425033</td>\n      <td>-17.000000</td>\n    </tr>\n    <tr>\n      <th>14260</th>\n      <td>25046</td>\n      <td>True</td>\n      <td>56</td>\n      <td>2</td>\n      <td>NaN</td>\n      <td>65.0</td>\n      <td>False</td>\n      <td>False</td>\n      <td>2.31</td>\n      <td>False</td>\n      <td>...</td>\n      <td>False</td>\n      <td>NaN</td>\n      <td>False</td>\n      <td>5.1</td>\n      <td>False</td>\n      <td>False</td>\n      <td>98.0</td>\n      <td>38.0</td>\n      <td>22.069132</td>\n      <td>-17.083333</td>\n    </tr>\n    <tr>\n      <th>14261</th>\n      <td>25049</td>\n      <td>True</td>\n      <td>47</td>\n      <td>2</td>\n      <td>NaN</td>\n      <td>46.0</td>\n      <td>False</td>\n      <td>False</td>\n      <td>1.93</td>\n      <td>False</td>\n      <td>...</td>\n      <td>False</td>\n      <td>NaN</td>\n      <td>False</td>\n      <td>3.2</td>\n      <td>False</td>\n      <td>False</td>\n      <td>108.0</td>\n      <td>28.0</td>\n      <td>17.915199</td>\n      <td>-17.083333</td>\n    </tr>\n    <tr>\n      <th>14262</th>\n      <td>25057</td>\n      <td>True</td>\n      <td>61</td>\n      <td>8</td>\n      <td>NaN</td>\n      <td>75.0</td>\n      <td>False</td>\n      <td>False</td>\n      <td>2.29</td>\n      <td>False</td>\n      <td>...</td>\n      <td>False</td>\n      <td>NaN</td>\n      <td>False</td>\n      <td>6.8</td>\n      <td>False</td>\n      <td>False</td>\n      <td>180.0</td>\n      <td>68.0</td>\n      <td>27.331622</td>\n      <td>-17.083333</td>\n    </tr>\n    <tr>\n      <th>14263</th>\n      <td>25061</td>\n      <td>False</td>\n      <td>29</td>\n      <td>3</td>\n      <td>NaN</td>\n      <td>84.0</td>\n      <td>False</td>\n      <td>False</td>\n      <td>3.02</td>\n      <td>False</td>\n      <td>...</td>\n      <td>False</td>\n      <td>NaN</td>\n      <td>False</td>\n      <td>6.1</td>\n      <td>False</td>\n      <td>False</td>\n      <td>152.0</td>\n      <td>60.0</td>\n      <td>33.161435</td>\n      <td>-17.083333</td>\n    </tr>\n  </tbody>\n</table>\n<p>14264 rows × 81 columns</p>\n</div>"
     },
     "execution_count": 24,
     "metadata": {},
     "output_type": "execute_result"
    }
   ],
   "source": [
    "X.merge(Y,on='Unnamed: 0', how='left')"
   ],
   "metadata": {
    "collapsed": false,
    "pycharm": {
     "name": "#%%\n"
    }
   }
  },
  {
   "cell_type": "code",
   "execution_count": 25,
   "outputs": [
    {
     "data": {
      "text/plain": "14264"
     },
     "execution_count": 25,
     "metadata": {},
     "output_type": "execute_result"
    }
   ],
   "source": [
    "len(X)"
   ],
   "metadata": {
    "collapsed": false,
    "pycharm": {
     "name": "#%%\n"
    }
   }
  },
  {
   "cell_type": "code",
   "execution_count": null,
   "outputs": [],
   "source": [
    "d = []\n",
    "p = 0\n",
    "j = 0\n",
    "for i in range(X):\n",
    "    j = j + 500\n",
    "    p ="
   ],
   "metadata": {
    "collapsed": false,
    "pycharm": {
     "name": "#%%\n"
    }
   }
  }
 ],
 "metadata": {
  "kernelspec": {
   "display_name": "Python 3",
   "language": "python",
   "name": "python3"
  },
  "language_info": {
   "codemirror_mode": {
    "name": "ipython",
    "version": 2
   },
   "file_extension": ".py",
   "mimetype": "text/x-python",
   "name": "python",
   "nbconvert_exporter": "python",
   "pygments_lexer": "ipython2",
   "version": "2.7.6"
  }
 },
 "nbformat": 4,
 "nbformat_minor": 0
}